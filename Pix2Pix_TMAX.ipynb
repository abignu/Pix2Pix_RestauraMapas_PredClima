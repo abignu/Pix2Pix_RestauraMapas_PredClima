{
  "nbformat": 4,
  "nbformat_minor": 0,
  "metadata": {
    "colab": {
      "name": "Pix2Pix_TMAX.ipynb",
      "version": "0.3.2",
      "provenance": [],
      "collapsed_sections": [],
      "include_colab_link": true
    },
    "kernelspec": {
      "name": "python3",
      "display_name": "Python 3"
    },
    "accelerator": "GPU"
  },
  "cells": [
    {
      "cell_type": "markdown",
      "metadata": {
        "id": "view-in-github",
        "colab_type": "text"
      },
      "source": [
        "<a href=\"https://colab.research.google.com/github/abignu/Pix2Pix_RestauraMapas_PredClima/blob/master/Pix2Pix_TMAX.ipynb\" target=\"_parent\"><img src=\"https://colab.research.google.com/assets/colab-badge.svg\" alt=\"Open In Colab\"/></a>"
      ]
    },
    {
      "cell_type": "code",
      "metadata": {
        "id": "_4JvisCQo4gg",
        "colab_type": "code",
        "colab": {}
      },
      "source": [
        "#Aca esta el codigo de la red neuronal para el Pix2Pix Tmax\n",
        "\n",
        "# Este modelo de Pix2Pix recibe una imagen diseñada por Agustin Bignú que representa un mapa de temperaturas máximas de USA en un día concreto. El objetivo del modelo es intentar generar\n",
        "# la imagen (predicción meteorológica) del día siguiente a la imagen introducida. De esta forma será capaza de predecir como será el clima del día siguiente. "
      ],
      "execution_count": 0,
      "outputs": []
    },
    {
      "cell_type": "code",
      "metadata": {
        "id": "L-ZK6PmFUPT3",
        "colab_type": "code",
        "colab": {}
      },
      "source": [
        "from google.colab import drive\n",
        "drive.mount('/content/drive')"
      ],
      "execution_count": 0,
      "outputs": []
    },
    {
      "cell_type": "code",
      "metadata": {
        "id": "yvWNcWlro7iN",
        "colab_type": "code",
        "outputId": "523f847e-b7d6-4294-bc06-608de513e2c9",
        "colab": {
          "base_uri": "https://localhost:8080/",
          "height": 34
        }
      },
      "source": [
        "from __future__ import absolute_import, division, print_function, unicode_literals\n",
        "\n",
        "try:\n",
        "  # %tensorflow_version only exists in Colab.\n",
        "  %tensorflow_version 2.x\n",
        "except Exception:\n",
        "  pass\n",
        "import tensorflow as tf\n",
        "from datetime import datetime\n",
        "from datetime import timedelta\n",
        "import os\n",
        "import time\n",
        "import matplotlib.pyplot as plt\n",
        "from IPython.display import clear_output"
      ],
      "execution_count": 0,
      "outputs": [
        {
          "output_type": "stream",
          "text": [
            "TensorFlow 2.x selected.\n"
          ],
          "name": "stdout"
        }
      ]
    },
    {
      "cell_type": "code",
      "metadata": {
        "id": "tk77Y9PFThRl",
        "colab_type": "code",
        "outputId": "d7fd2075-2e3b-4bc2-89cb-bc591b2e24ec",
        "colab": {
          "base_uri": "https://localhost:8080/",
          "height": 34
        }
      },
      "source": [
        "import numpy as np\n",
        "\n",
        "# Ruta de los mapas: el input y target salen de la misma tarjeta y utilizan \n",
        "# la misma carpeta\n",
        "\n",
        "PATH = '/content/drive/My Drive/AI/Pix2PixTMAX'\n",
        "INPATH = PATH + '/mapas'\n",
        "OUTPATH = PATH + '/outputs'\n",
        "CKPATH = PATH + '/checkpoints'\n",
        "\n",
        "imgurls = !ls -1 \"{INPATH}\"\n",
        "\n",
        "n = 4000 # vamos a entrenar a partir de los 50 hasta el 56\n",
        "train_n = round(n * 0.8) # un 80% para el entrenamiento\n",
        "\n",
        "# listado randomizado\n",
        "randurls = np.copy(imgurls)\n",
        "\n",
        "#np.random.seed(23)\n",
        "#np.random.shuffle(randurls)\n",
        "\n",
        "# particion test/train\n",
        "tr_urls = randurls[:train_n] #train\n",
        "ts_urls = randurls[train_n:n] #test\n",
        "\n",
        "print(len(imgurls),len(tr_urls),len(ts_urls))\n",
        "#print(tr_urls)"
      ],
      "execution_count": 0,
      "outputs": [
        {
          "output_type": "stream",
          "text": [
            "14457 3200 800\n"
          ],
          "name": "stdout"
        }
      ]
    },
    {
      "cell_type": "code",
      "metadata": {
        "id": "c0jwfUSZX5LN",
        "colab_type": "code",
        "colab": {}
      },
      "source": [
        "# vamos a usar unas funciones que nos ayudaran a darle mas variedad a las imgs\n",
        "IMG_WIDTH = 256\n",
        "IMG_HEIGHT = 256\n",
        "\n",
        "# reescala img\n",
        "def resize(inimg, tgimg, height, width):\n",
        "  \n",
        "  inimg = tf.image.resize(inimg, [height, width])\n",
        "  tgimg = tf.image.resize(tgimg, [height, width])\n",
        "  \n",
        "  return inimg, tgimg\n",
        "\n",
        "# normaliza la imagen en el ragno [-1,1]\n",
        "def normalize(inimg, tgimg):\n",
        "  \n",
        "  inimg = (inimg / 127.5) - 1\n",
        "  tgimg = (tgimg / 127.5) - 1\n",
        "  \n",
        "  return inimg, tgimg\n",
        "\n",
        "# en este caso no necesitamos random_jitter o data augmentation\n",
        "def random_jitter(inimg, tgimg):\n",
        "  \n",
        "  inimg, tgimg = resize(inimg, tgimg, 286, 286)\n",
        "  \n",
        "  stacked_image = tf.stack([inimg, tgimg], axis=0) # las superponemos y las recortamos\n",
        "  cropped_image = tf.image.random_crop(stacked_image, size=[2, IMG_HEIGHT, IMG_WIDTH, 3])\n",
        "  \n",
        "  inimg, tgimg = cropped_image[0], cropped_image[1]\n",
        "  \n",
        "  if tf.random.uniform(()) > 0.5:\n",
        "    \n",
        "    inimg = tf.image.flip_left_right(inimg)\n",
        "    tgimg = tf.image.flip_left_right(tgimg)\n",
        "  \n",
        "  return inimg, tgimg\n",
        "\n",
        "def fechaSiguiente(filename):\n",
        "  \n",
        "  #filename = tf.strings.as_string(filename)\n",
        "  \n",
        "  fecha = filename.split('-')\n",
        "  \n",
        "  date = fecha[0]\n",
        "  num = fecha[1]\n",
        "  resto = num.split('.')\n",
        "  num = resto[0]\n",
        "  formato = resto[1]\n",
        "  date = datetime.strptime(date, '%Y%m%d')\n",
        "  \n",
        "  date = date + timedelta(days=1)\n",
        "  num = int(num) + 1 \n",
        "  \n",
        "  num = format(num,'06d')\n",
        "  date = date.strftime('%Y%m%d')\n",
        "  \n",
        "  return date + '-' + num + '.' + formato\n",
        "\n",
        "# funcion que carga las imagenes: como las pide de la misma carpeta \n",
        "# las tgimg empezaran en la dos y seguiran una a una. Las input comienzan en la primera\n",
        "# y luego siguen con la que antes fue la tgimg\n",
        "def load_image(filename, augment=False):\n",
        "  \n",
        "  filename2 = fechaSiguiente(filename)\n",
        "  \n",
        "  inimg = tf.cast(tf.image.decode_png(tf.io.read_file(INPATH + '/' + filename)), tf.float32)[..., :3]\n",
        "  \n",
        "  tgimg = tf.cast(tf.image.decode_png(tf.io.read_file(INPATH + '/' + filename2)), tf.float32)[..., :3]\n",
        "  \n",
        "  inimg, tgimg = resize(inimg, tgimg, IMG_HEIGHT, IMG_WIDTH)\n",
        "  \n",
        "  if augment:\n",
        "    inimg, tgimg = random_jitter(inimg, tgimg)\n",
        "  \n",
        "  inimg, tgimg = normalize(inimg, tgimg)\n",
        "  \n",
        "  return inimg, tgimg\n",
        "\n",
        "def load_train_img(filename):\n",
        "  return load_image(filename)\n",
        "\n",
        "def load_test_img(filename):\n",
        "  return load_image(filename)"
      ],
      "execution_count": 0,
      "outputs": []
    },
    {
      "cell_type": "code",
      "metadata": {
        "id": "o0f1gNujeCsN",
        "colab_type": "code",
        "outputId": "b3b140c5-9509-4875-e964-c7a38088cb71",
        "colab": {
          "base_uri": "https://localhost:8080/",
          "height": 303
        }
      },
      "source": [
        "\n",
        "#read_first = True\n",
        "img1, img2= load_train_img('20190301-014304.png')\n",
        "\n",
        "plt.imshow(img1)\n"
      ],
      "execution_count": 0,
      "outputs": [
        {
          "output_type": "stream",
          "text": [
            "Clipping input data to the valid range for imshow with RGB data ([0..1] for floats or [0..255] for integers).\n"
          ],
          "name": "stderr"
        },
        {
          "output_type": "execute_result",
          "data": {
            "text/plain": [
              "<matplotlib.image.AxesImage at 0x7f03d33e09e8>"
            ]
          },
          "metadata": {
            "tags": []
          },
          "execution_count": 140
        },
        {
          "output_type": "display_data",
          "data": {
            "image/png": "[encoded data removed]",
            "text/plain": [
              "<Figure size 432x288 with 1 Axes>"
            ]
          },
          "metadata": {
            "tags": []
          }
        }
      ]
    },
    {
      "cell_type": "code",
      "metadata": {
        "id": "DdNo9w_rcnLo",
        "colab_type": "code",
        "outputId": "236b058a-da3b-4f13-87dc-17f53c2571cb",
        "colab": {
          "base_uri": "https://localhost:8080/",
          "height": 286
        }
      },
      "source": [
        "plt.imshow(img1)\n",
        "#plt.imshow(img2)\n",
        "plt.show()"
      ],
      "execution_count": 0,
      "outputs": [
        {
          "output_type": "stream",
          "text": [
            "Clipping input data to the valid range for imshow with RGB data ([0..1] for floats or [0..255] for integers).\n"
          ],
          "name": "stderr"
        },
        {
          "output_type": "display_data",
          "data": {
            "image/png": "[encoded data removed]",
            "text/plain": [
              "<Figure size 432x288 with 1 Axes>"
            ]
          },
          "metadata": {
            "tags": []
          }
        }
      ]
    },
    {
      "cell_type": "code",
      "metadata": {
        "id": "OQ8CqfpghOuh",
        "colab_type": "code",
        "colab": {}
      },
      "source": [
        "# genero un dataset a partir de un listado de elementos que me indiques\n",
        "#train_dataset = tf.data.Dataset.from_tensor_slices(tr_urls)\n",
        "\n",
        "train_dataset = map(load_train_img, tr_urls) #mapeo entre filenames y la funcio nindicada\n",
        "\n",
        "test_dataset = map(load_test_img, ts_urls)\n",
        "\n",
        "inimg, tgimg = next(train_dataset)"
      ],
      "execution_count": 0,
      "outputs": []
    },
    {
      "cell_type": "code",
      "metadata": {
        "id": "mWWy1dzU1b5G",
        "colab_type": "code",
        "colab": {}
      },
      "source": [
        "#Arquitectura del modelo\n",
        "from tensorflow.keras.layers import *\n",
        "from tensorflow.keras import *\n",
        "\n",
        "#funcion que genera bloques de la red neuronal (encoder)\n",
        "def downsample(filters, apply_batchnorm=True):\n",
        "  \n",
        "  result = Sequential()\n",
        "  \n",
        "  initializer = tf.random_normal_initializer(0, 0.02)\n",
        "  # capa convolucional\n",
        "  result.add(Conv2D(filters,\n",
        "                    kernel_size=4,\n",
        "                    strides=2,\n",
        "                    padding='same',\n",
        "                    kernel_initializer=initializer,\n",
        "                    use_bias=not apply_batchnorm))\n",
        "  \n",
        "  if apply_batchnorm:\n",
        "    # capa de Batch Normalization\n",
        "    result.add(BatchNormalization())\n",
        "  \n",
        "  # capa de activacion (leakyRELU)\n",
        "  result.add(LeakyReLU())\n",
        "  \n",
        "  return result\n",
        "\n"
      ],
      "execution_count": 0,
      "outputs": []
    },
    {
      "cell_type": "code",
      "metadata": {
        "id": "QJWmPypE5_Wf",
        "colab_type": "code",
        "outputId": "bf8b41e0-a8ec-4796-fe97-82fe1755e683",
        "colab": {
          "base_uri": "https://localhost:8080/",
          "height": 34
        }
      },
      "source": [
        "#funcion que genera bloques de la red neuronal (decoder)\n",
        "def upsample(filters, apply_dropout=False):\n",
        "  \n",
        "  result = Sequential()\n",
        "  \n",
        "  initializer = tf.random_normal_initializer(0, 0.02)\n",
        "  # capa convolucional\n",
        "  result.add(Conv2DTranspose(filters,\n",
        "                            kernel_size=4,\n",
        "                            strides=2,\n",
        "                            padding='same',\n",
        "                            kernel_initializer=initializer,\n",
        "                            use_bias=False))\n",
        "  \n",
        "\n",
        "  # capa de Batch Normalization\n",
        "  result.add(BatchNormalization())\n",
        "  \n",
        "  if apply_dropout:\n",
        "    # capa de Dropout\n",
        "    result.add(Dropout(0.5))\n",
        "    \n",
        "  # capa de activacion (leakyRELU)\n",
        "  result.add(ReLU())\n",
        "  \n",
        "  return result\n",
        "\n",
        "upsample(64)"
      ],
      "execution_count": 0,
      "outputs": [
        {
          "output_type": "execute_result",
          "data": {
            "text/plain": [
              "<tensorflow.python.keras.engine.sequential.Sequential at 0x7f94ea2b3c88>"
            ]
          },
          "metadata": {
            "tags": []
          },
          "execution_count": 10
        }
      ]
    },
    {
      "cell_type": "code",
      "metadata": {
        "id": "cx8ENYz37UyI",
        "colab_type": "code",
        "colab": {}
      },
      "source": [
        "def Generator():\n",
        "  \n",
        "  inputs = tf.keras.layers.Input(shape=[None,None,3])\n",
        "  \n",
        "  down_stack = [\n",
        "      downsample(64, apply_batchnorm=False), #(bs, 128, 128, 64); bs = 1\n",
        "      downsample(128),                       #(bs, 64, 64, 128)\n",
        "      downsample(256),                       #(bs, 32, 32, 256)\n",
        "      downsample(512),                       #(bs, 16, 16, 512)\n",
        "      downsample(512),                       #(bs, 8, 8, 512)\n",
        "      downsample(512),                       #(bs, 4, 4, 512)\n",
        "      downsample(512),                       #(bs, 2, 2, 512)\n",
        "      downsample(512),                       #(bs, 1, 1, 512)\n",
        "  ]\n",
        "  \n",
        "  up_stack = [\n",
        "      upsample(512, apply_dropout=True),     #(bs, 2, 2, 1024)\n",
        "      upsample(512, apply_dropout=True),     #(bs, 4, 4, 1024)\n",
        "      upsample(512, apply_dropout=True),     #(bs, 8, 8, 1024)\n",
        "      upsample(512),                         #(bs, 16, 16, 1024)\n",
        "      upsample(256),                         #(bs, 32, 32, 512)\n",
        "      upsample(128),                         #(bs, 64, 64, 256)\n",
        "      upsample(64),                          #(bs, 128, 128, 128)\n",
        "  ]\n",
        "  \n",
        "  initializer = tf.random_normal_initializer(0, 0.02)\n",
        "  \n",
        "  # ultima capa\n",
        "  last = Conv2DTranspose(filters = 3,\n",
        "                         kernel_size=4,\n",
        "                         strides=2,\n",
        "                         padding='same',\n",
        "                         kernel_initializer=initializer,\n",
        "                         activation='tanh')\n",
        "  \n",
        "  # los conectamos, primero el decoder y luego el encoder\n",
        "  x = inputs\n",
        "  \n",
        "  # a su vez inyectamos las skip-connections\n",
        "  s = []\n",
        "  concat = Concatenate()\n",
        "  \n",
        "  for down in down_stack:   \n",
        "    x = down(x)\n",
        "    s.append(x) #listado para las skip-connections\n",
        "    \n",
        "  s = reversed(s[:-1])  # los damos vuelta\n",
        "  \n",
        "  for up, sk in zip(up_stack, s):\n",
        "    x = up(x)\n",
        "    x = concat([x, sk]) #concatenamos las capas del encoder con las skip-conncections\n",
        "    \n",
        "  last = last(x)\n",
        "  \n",
        "  return Model(inputs=inputs, outputs=last)"
      ],
      "execution_count": 0,
      "outputs": []
    },
    {
      "cell_type": "code",
      "metadata": {
        "id": "zfxcfhxtAwaH",
        "colab_type": "code",
        "colab": {}
      },
      "source": [
        "generador = Generator()"
      ],
      "execution_count": 0,
      "outputs": []
    },
    {
      "cell_type": "code",
      "metadata": {
        "id": "-m6qzxtUBOCp",
        "colab_type": "code",
        "outputId": "ec5b047b-3264-4309-8b97-de1007b0d200",
        "colab": {
          "base_uri": "https://localhost:8080/",
          "height": 303
        }
      },
      "source": [
        "img = tf.expand_dims((inimg+1)*255, 0)\n",
        "gen_output = generador(img, training=False)\n",
        "plt.imshow(gen_output[0,...])"
      ],
      "execution_count": 0,
      "outputs": [
        {
          "output_type": "stream",
          "text": [
            "Clipping input data to the valid range for imshow with RGB data ([0..1] for floats or [0..255] for integers).\n"
          ],
          "name": "stderr"
        },
        {
          "output_type": "execute_result",
          "data": {
            "text/plain": [
              "<matplotlib.image.AxesImage at 0x7f6af5897c18>"
            ]
          },
          "metadata": {
            "tags": []
          },
          "execution_count": 15
        },
        {
          "output_type": "display_data",
          "data": {
            "image/png": "[encoded data removed]",
            "text/plain": [
              "<Figure size 432x288 with 1 Axes>"
            ]
          },
          "metadata": {
            "tags": []
          }
        }
      ]
    },
    {
      "cell_type": "code",
      "metadata": {
        "id": "BHUxyjhgWGbp",
        "colab_type": "code",
        "colab": {}
      },
      "source": [
        "# aca esta el discriminador (PatchGAN)\n",
        "def Discriminator():\n",
        "  \n",
        "  ini = Input(shape=[None,None,3], name='input_img')\n",
        "  gen = Input(shape=[None,None,3], name='gen_img')\n",
        "  \n",
        "  con = concatenate([ini, gen])\n",
        "  \n",
        "  initializer = tf.random_normal_initializer(0, 0.02)\n",
        "  \n",
        "  down1 = downsample(64, apply_batchnorm=False)(con)\n",
        "  down2 = downsample(128)(down1)\n",
        "  down3 = downsample(256)(down2)\n",
        "  down4 = downsample(512)(down3)\n",
        "  \n",
        "  last = tf.keras.layers.Conv2D(filters=1,\n",
        "                                kernel_size=4,\n",
        "                                strides=1,\n",
        "                                kernel_initializer=initializer,\n",
        "                                padding='same')(down4)\n",
        "  \n",
        "  return tf.keras.Model(inputs=[ini, gen], outputs=last)\n",
        "\n",
        "discriminador = Discriminator()"
      ],
      "execution_count": 0,
      "outputs": []
    },
    {
      "cell_type": "code",
      "metadata": {
        "id": "j0b52bwKYrre",
        "colab_type": "code",
        "outputId": "85137952-47c2-4bcd-8d89-ea0527b47dbc",
        "colab": {
          "base_uri": "https://localhost:8080/",
          "height": 286
        }
      },
      "source": [
        "disc_out = discriminador([tf.expand_dims((inimg+1)*255, 0), gen_output], training=False)\n",
        "\n",
        "plt.imshow(disc_out[0,...,-1], vmin=-20, vmax=20, cmap='RdBu_r')\n",
        "\n",
        "plt.colorbar()\n",
        "\n",
        "disc_out.shape"
      ],
      "execution_count": 0,
      "outputs": [
        {
          "output_type": "execute_result",
          "data": {
            "text/plain": [
              "TensorShape([1, 16, 16, 1])"
            ]
          },
          "metadata": {
            "tags": []
          },
          "execution_count": 17
        },
        {
          "output_type": "display_data",
          "data": {
            "image/png": "[encoded data removed]",
            "text/plain": [
              "<Figure size 432x288 with 2 Axes>"
            ]
          },
          "metadata": {
            "tags": []
          }
        }
      ]
    },
    {
      "cell_type": "code",
      "metadata": {
        "id": "ZZi-k70UZ1Vx",
        "colab_type": "code",
        "colab": {}
      },
      "source": [
        "# ahora programamos la funcion de coste adversaria\n",
        "loss_object = tf.keras.losses.BinaryCrossentropy(from_logits=True)"
      ],
      "execution_count": 0,
      "outputs": []
    },
    {
      "cell_type": "code",
      "metadata": {
        "id": "1900a9V_aGH-",
        "colab_type": "code",
        "colab": {}
      },
      "source": [
        "# aca definimos funcion loss para el discriminador, buscamos minimizar\n",
        "def discriminator_loss(disc_real_output, disc_generated_output):\n",
        "  \n",
        "  # diferencia entre los true por ser real y el detectado por el discriminador\n",
        "  real_loss = loss_object(tf.ones_like(disc_real_output), disc_real_output)\n",
        "  \n",
        "  # diferencia entre los false por ser generado y el detectado por el discriminador\n",
        "  generated_loss = loss_object(tf.zeros_like(disc_generated_output), disc_generated_output)\n",
        "  \n",
        "  total_disc_loss = real_loss + generated_loss\n",
        "  \n",
        "  return total_disc_loss\n"
      ],
      "execution_count": 0,
      "outputs": []
    },
    {
      "cell_type": "code",
      "metadata": {
        "id": "Yy7IhfBfbepO",
        "colab_type": "code",
        "colab": {}
      },
      "source": [
        "LAMBDA = 100\n",
        "# aca definimos funcion loss para el generador, buscamos maximizar\n",
        "def generator_loss(disc_generated_output, gen_output, target):\n",
        "  \n",
        "  gan_loss = loss_object(tf.ones_like(disc_generated_output), disc_generated_output)\n",
        "  \n",
        "  # mean absolute error\n",
        "  l1_loss = tf.reduce_mean(tf.abs(target - gen_output))\n",
        "  \n",
        "  total_gen_loss = gan_loss + (LAMBDA * l1_loss)\n",
        "  \n",
        "  return total_gen_loss"
      ],
      "execution_count": 0,
      "outputs": []
    },
    {
      "cell_type": "code",
      "metadata": {
        "id": "dSGiQGjNdF6d",
        "colab_type": "code",
        "colab": {}
      },
      "source": [
        "import os \n",
        "\n",
        "# optimizadores\n",
        "generator_optimizer = tf.keras.optimizers.Adam(2e-4, beta_1=0.5)\n",
        "discriminator_optimizer = tf.keras.optimizers.Adam(2e-4, beta_1=0.5)\n",
        "\n",
        "# checkpoints\n",
        "checkpoint_prefix= os.path.join(CKPATH, 'ckpt')\n",
        "checkpoint = tf.train.Checkpoint(generator_optimizer=generator_optimizer,\n",
        "                                 discriminator_optimizer=discriminator_optimizer,\n",
        "                                 generator=generador,\n",
        "                                 discriminator=discriminador)\n",
        "\n",
        "# linea de codigo para restaurar el entrenamiento si se nos corta Colab\n",
        "# checkpoint.restore(tf.train.latest_checkpoint(CKPATH)).assert_consumed()"
      ],
      "execution_count": 0,
      "outputs": []
    },
    {
      "cell_type": "code",
      "metadata": {
        "id": "kI-Z5l7telN9",
        "colab_type": "code",
        "colab": {}
      },
      "source": [
        "# funcion que despliega las imagenes durante le entrenamiento\n",
        "def generate_images(model, test_input, tar, filename, save_filename=False, display_imgs=True):\n",
        "  \n",
        "  prediction = model(test_input, training=True)\n",
        "  \n",
        "  if save_filename:\n",
        "    tf.keras.preprocessing.image.save_img(PATH + '/outputs/predicted_{}'.format(filename) + '.jpg', prediction[0,...])\n",
        "    tf.keras.preprocessing.image.save_img(PATH + '/outputs/target_{}'.format(filename) + '.jpg', tar[0,...])\n",
        "    tf.keras.preprocessing.image.save_img(PATH + '/outputs/input_{}'.format(filename) + '.jpg', test_input[0,...])\n",
        "    \n",
        "  plt.figure(figsize=(10,10))\n",
        "  \n",
        "  display_list = [test_input[0], tar[0], prediction[0]]\n",
        "  title = ['Input img', 'Ground Truth', 'Predicted Image']\n",
        "  \n",
        "  if display_imgs:\n",
        "    for i in range(3):\n",
        "      plt.subplot(1, 3, i+1)\n",
        "      plt.title(title[i])\n",
        "      plt.imshow(display_list[i] * 0.5 + 0.5)\n",
        "      \n",
        "      plt.axis('off')\n",
        "  \n",
        "  plt.show()"
      ],
      "execution_count": 0,
      "outputs": []
    },
    {
      "cell_type": "code",
      "metadata": {
        "id": "16zazgRPjaCD",
        "colab_type": "code",
        "colab": {}
      },
      "source": [
        "# funcion train_step utilizada en el bloque anterior\n",
        "@tf.function()\n",
        "def train_step(input_image, target):\n",
        "  \n",
        "  # GradientTape() me permite hacer la backprop (similar a Torch), diferencia al Grafo Computacional\n",
        "  with tf.GradientTape() as gen_tape, tf.GradientTape() as discr_tape:\n",
        "    \n",
        "    # el generador genera la imagen\n",
        "    output_image = generador(tf.expand_dims(input_image, 0), training=True)\n",
        "\n",
        "    # tarea 1 del discriminador: observa lo que genero el generador\n",
        "    output_gen_discr = discriminador([output_image, tf.expand_dims(input_image, 0)], training=True)\n",
        "\n",
        "    # tarea 2: evalua el target a ver si es real o no\n",
        "    output_trg_discr = discriminador([tf.expand_dims(target,0), tf.expand_dims(input_image, 0)], training=True)\n",
        "\n",
        "    # llamamos a las losses\n",
        "    discr_loss = discriminator_loss(output_trg_discr, output_gen_discr)                       \n",
        "\n",
        "    gen_loss = generator_loss(output_gen_discr, output_image, tf.expand_dims(target,0))\n",
        "\n",
        "    # backprop\n",
        "    generator_grads = gen_tape.gradient(gen_loss, generador.trainable_variables)\n",
        "    discriminator_grads = discr_tape.gradient(discr_loss, discriminador.trainable_variables)\n",
        "    \n",
        "    # optimizo\n",
        "    generator_optimizer.apply_gradients(zip(generator_grads, generador.trainable_variables))\n",
        "    \n",
        "    discriminator_optimizer.apply_gradients(zip(discriminator_grads, discriminador.trainable_variables))\n",
        "    \n",
        "    "
      ],
      "execution_count": 0,
      "outputs": []
    },
    {
      "cell_type": "code",
      "metadata": {
        "id": "EOiY0___gAQA",
        "colab_type": "code",
        "colab": {}
      },
      "source": [
        "# bloque que define rutina de entrenamiento\n",
        "from IPython.display import clear_output\n",
        "\n",
        "def train(dataset, epochs):\n",
        "  for epoch in range(epochs):  \n",
        "    imgi = 0\n",
        "    print(epoch)\n",
        "    for input_image, target in dataset:\n",
        "      print('epoch ' + str(epoch) + ' - train: ' + str(imgi) + '/' + str(len(tr_urls)))\n",
        "      imgi += 1\n",
        "      train_step(input_image, target)\n",
        "    \n",
        "      clear_output(wait=True)\n",
        "    \n",
        "    #if epoch % 2 == 0:\n",
        "      #inp, tar = next(test_dataset)\n",
        "      #generate_images(generador, tf.expand_dims(inp,0), tf.expand_dims(tar,0),'_' + str(epoch), save_filename=True,display_imgs=True)\n",
        "        \n",
        "    # guardamos ckpts\n",
        "    if (epoch + 1) % 25 == 0:\n",
        "      checkpoint.save(file_prefix = checkpoint_prefix)\n",
        "  print('guardados')\n",
        "  generador.save_weights('../weights.h5')\n",
        "  generador.save('../model.h5')"
      ],
      "execution_count": 0,
      "outputs": []
    },
    {
      "cell_type": "code",
      "metadata": {
        "id": "8o3SaFKHmkYi",
        "colab_type": "code",
        "outputId": "9f5d576d-e33e-45a9-cb1b-274335210a9e",
        "colab": {
          "base_uri": "https://localhost:8080/",
          "height": 204
        }
      },
      "source": [
        "# entrenamos\n",
        "train(train_dataset, 10)"
      ],
      "execution_count": 0,
      "outputs": [
        {
          "output_type": "stream",
          "text": [
            "0\n",
            "1\n",
            "2\n",
            "3\n",
            "4\n",
            "5\n",
            "6\n",
            "7\n",
            "8\n",
            "9\n",
            "guardados\n"
          ],
          "name": "stdout"
        }
      ]
    },
    {
      "cell_type": "code",
      "metadata": {
        "id": "ccS3BPvlFLCX",
        "colab_type": "code",
        "outputId": "d1915fca-8d3e-452b-aca2-00eb58006445",
        "colab": {
          "base_uri": "https://localhost:8080/",
          "height": 228
        }
      },
      "source": [
        "img, tar = load_image('20170926-013783.png')\n",
        "pred = generador(tf.expand_dims(img, 0))\n",
        "imgs = [tf.expand_dims(img, 0), tf.expand_dims(tar, 0), pred]\n",
        "title = ['Hoy', 'Mañana', 'Mañana (prediccion)']\n",
        "plt.figure(figsize=(10,10))\n",
        "for i in range(3):\n",
        "  plt.subplot(1, 3, i+1)\n",
        "  plt.title(title[i])\n",
        "  plt.imshow(imgs[i][0,...] * 0.5 + 0.5)\n",
        "plt.show()"
      ],
      "execution_count": 0,
      "outputs": [
        {
          "output_type": "display_data",
          "data": {
            "image/png": "[encoded data removed]",
            "text/plain": [
              "<Figure size 720x720 with 3 Axes>"
            ]
          },
          "metadata": {
            "tags": []
          }
        }
      ]
    }
  ]
}
